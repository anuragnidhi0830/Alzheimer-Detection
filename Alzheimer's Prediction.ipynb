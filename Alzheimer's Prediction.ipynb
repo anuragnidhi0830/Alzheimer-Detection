{
 "cells": [
  {
   "cell_type": "code",
   "execution_count": 2,
   "metadata": {},
   "outputs": [],
   "source": [
    "import numpy as np\n",
    "import keras\n",
    "import tensorflow as tf\n",
    "import cv2"
   ]
  },
  {
   "cell_type": "code",
   "execution_count": 3,
   "metadata": {},
   "outputs": [],
   "source": [
    "from keras.models import Sequential \n",
    "from keras.layers import Convolution2D,MaxPooling2D,Flatten,Dense\n"
   ]
  },
  {
   "cell_type": "code",
   "execution_count": 5,
   "metadata": {},
   "outputs": [],
   "source": [
    "clf = Sequential()"
   ]
  },
  {
   "cell_type": "code",
   "execution_count": 9,
   "metadata": {},
   "outputs": [
    {
     "name": "stderr",
     "output_type": "stream",
     "text": [
      "E:\\Anaconda\\lib\\site-packages\\ipykernel_launcher.py:1: UserWarning: Update your `Conv2D` call to the Keras 2 API: `Conv2D(128, (3, 3), input_shape=(64, 64, 3..., activation=\"relu\")`\n",
      "  \"\"\"Entry point for launching an IPython kernel.\n"
     ]
    }
   ],
   "source": [
    "clf.add(Convolution2D(128,3,3,input_shape = (64,64,3),activation = 'relu'))\n",
    "clf.add(MaxPooling2D(pool_size = (2,2)))\n"
   ]
  },
  {
   "cell_type": "code",
   "execution_count": 10,
   "metadata": {
    "scrolled": true
   },
   "outputs": [
    {
     "name": "stderr",
     "output_type": "stream",
     "text": [
      "E:\\Anaconda\\lib\\site-packages\\ipykernel_launcher.py:1: UserWarning: Update your `Conv2D` call to the Keras 2 API: `Conv2D(64, (3, 3), activation=\"relu\")`\n",
      "  \"\"\"Entry point for launching an IPython kernel.\n"
     ]
    }
   ],
   "source": [
    "clf.add(Convolution2D(64,3,3,activation = 'relu'))\n",
    "clf.add(MaxPooling2D(pool_size = (2,2)))"
   ]
  },
  {
   "cell_type": "code",
   "execution_count": 11,
   "metadata": {},
   "outputs": [],
   "source": [
    "clf.add(Flatten())"
   ]
  },
  {
   "cell_type": "code",
   "execution_count": 12,
   "metadata": {
    "scrolled": true
   },
   "outputs": [
    {
     "name": "stderr",
     "output_type": "stream",
     "text": [
      "E:\\Anaconda\\lib\\site-packages\\ipykernel_launcher.py:1: UserWarning: Update your `Dense` call to the Keras 2 API: `Dense(activation=\"relu\", units=11)`\n",
      "  \"\"\"Entry point for launching an IPython kernel.\n",
      "E:\\Anaconda\\lib\\site-packages\\ipykernel_launcher.py:2: UserWarning: Update your `Dense` call to the Keras 2 API: `Dense(activation=\"sigmoid\", units=1)`\n",
      "  \n"
     ]
    }
   ],
   "source": [
    "clf.add(Dense(output_dim = 12, activation = 'relu'))\n",
    "clf.add(Dense(output_dim = 1, activation = 'sigmoid'))\n",
    "clf.compile(optimizer = 'adam', loss = 'binary_crossentropy', metrics = ['accuracy'])"
   ]
  },
  {
   "cell_type": "code",
   "execution_count": 13,
   "metadata": {},
   "outputs": [],
   "source": [
    "from keras.preprocessing.image import ImageDataGenerator\n",
    "train_datagen=ImageDataGenerator(rescale=1./255,shear_range = 0.1, rotation_range = 90, zoom_range=[0.0,0.2],brightness_range = [0.0,0.2],vertical_flip = True,horizontal_flip = True)"
   ]
  },
  {
   "cell_type": "code",
   "execution_count": 14,
   "metadata": {},
   "outputs": [
    {
     "name": "stdout",
     "output_type": "stream",
     "text": [
      "Found 39 images belonging to 2 classes.\n"
     ]
    }
   ],
   "source": [
    "test_datagen=ImageDataGenerator(rescale=1./255)\n",
    "test_set = test_datagen.flow_from_directory('Datasets/Test_set',target_size=(64,64),class_mode='binary')"
   ]
  },
  {
   "cell_type": "code",
   "execution_count": null,
   "metadata": {},
   "outputs": [
    {
     "name": "stdout",
     "output_type": "stream",
     "text": [
      "Found 400 images belonging to 2 classes.\n"
     ]
    },
    {
     "name": "stderr",
     "output_type": "stream",
     "text": [
      "E:\\Anaconda\\lib\\site-packages\\ipykernel_launcher.py:2: UserWarning: The semantics of the Keras 2 argument `steps_per_epoch` is not the same as the Keras 1 argument `samples_per_epoch`. `steps_per_epoch` is the number of batches to draw from the generator at each epoch. Basically steps_per_epoch = samples_per_epoch/batch_size. Similarly `nb_val_samples`->`validation_steps` and `val_samples`->`steps` arguments have changed. Update your method calls accordingly.\n",
      "  \n",
      "E:\\Anaconda\\lib\\site-packages\\ipykernel_launcher.py:2: UserWarning: Update your `fit_generator` call to the Keras 2 API: `fit_generator(<keras_pre..., validation_data=<keras_pre..., steps_per_epoch=16, epochs=50, validation_steps=39)`\n",
      "  \n"
     ]
    },
    {
     "name": "stdout",
     "output_type": "stream",
     "text": [
      "Epoch 1/50\n",
      "16/16 [==============================] - 10s 614ms/step - loss: 0.6939 - acc: 0.4310 - val_loss: 0.6931 - val_acc: 0.5385\n",
      "Epoch 2/50\n",
      "16/16 [==============================] - 9s 582ms/step - loss: 0.6932 - acc: 0.4870 - val_loss: 0.6942 - val_acc: 0.4872\n",
      "Epoch 3/50\n",
      "16/16 [==============================] - 9s 545ms/step - loss: 0.6926 - acc: 0.4975 - val_loss: 0.7032 - val_acc: 0.4872\n",
      "Epoch 4/50\n",
      "16/16 [==============================] - 9s 575ms/step - loss: 0.6927 - acc: 0.5339 - val_loss: 0.7094 - val_acc: 0.4872\n",
      "Epoch 5/50\n",
      "16/16 [==============================] - 9s 545ms/step - loss: 0.6926 - acc: 0.5442 - val_loss: 0.6981 - val_acc: 0.4872\n",
      "Epoch 6/50\n",
      "16/16 [==============================] - 9s 559ms/step - loss: 0.6884 - acc: 0.5781 - val_loss: 0.8385 - val_acc: 0.4872\n",
      "Epoch 7/50\n",
      "16/16 [==============================] - 9s 563ms/step - loss: 0.6897 - acc: 0.5157 - val_loss: 0.6904 - val_acc: 0.5128\n",
      "Epoch 8/50\n",
      "16/16 [==============================] - 9s 592ms/step - loss: 0.6861 - acc: 0.5625 - val_loss: 0.7134 - val_acc: 0.5128\n",
      "Epoch 9/50\n",
      "16/16 [==============================] - 9s 560ms/step - loss: 0.6876 - acc: 0.5624 - val_loss: 0.7066 - val_acc: 0.4615\n",
      "Epoch 10/50\n",
      "16/16 [==============================] - 9s 548ms/step - loss: 0.6832 - acc: 0.5768 - val_loss: 0.8114 - val_acc: 0.4872\n",
      "Epoch 11/50\n",
      "16/16 [==============================] - 9s 579ms/step - loss: 0.6700 - acc: 0.5833 - val_loss: 0.7792 - val_acc: 0.4615\n",
      "Epoch 12/50\n",
      "16/16 [==============================] - 9s 552ms/step - loss: 0.6583 - acc: 0.6342 - val_loss: 0.7873 - val_acc: 0.5897\n",
      "Epoch 13/50\n",
      "16/16 [==============================] - 9s 546ms/step - loss: 0.6803 - acc: 0.5599 - val_loss: 0.7099 - val_acc: 0.5641\n",
      "Epoch 14/50\n",
      "16/16 [==============================] - 9s 539ms/step - loss: 0.6796 - acc: 0.5196 - val_loss: 0.6956 - val_acc: 0.6154\n",
      "Epoch 15/50\n",
      "16/16 [==============================] - 9s 540ms/step - loss: 0.6571 - acc: 0.6057 - val_loss: 0.6813 - val_acc: 0.7179\n",
      "Epoch 16/50\n",
      "16/16 [==============================] - 9s 534ms/step - loss: 0.6524 - acc: 0.6419 - val_loss: 0.8096 - val_acc: 0.5641\n",
      "Epoch 17/50\n",
      "16/16 [==============================] - 9s 584ms/step - loss: 0.6580 - acc: 0.6224 - val_loss: 1.1171 - val_acc: 0.4615\n",
      "Epoch 18/50\n",
      "16/16 [==============================] - 10s 635ms/step - loss: 0.6431 - acc: 0.6537 - val_loss: 0.7114 - val_acc: 0.6154\n",
      "Epoch 19/50\n",
      "16/16 [==============================] - 9s 570ms/step - loss: 0.6329 - acc: 0.6196 - val_loss: 1.0874 - val_acc: 0.5641\n",
      "Epoch 20/50\n",
      "16/16 [==============================] - 9s 550ms/step - loss: 0.6700 - acc: 0.5649 - val_loss: 0.7178 - val_acc: 0.5897\n",
      "Epoch 21/50\n",
      "16/16 [==============================] - 9s 552ms/step - loss: 0.6415 - acc: 0.6431 - val_loss: 0.7005 - val_acc: 0.7949\n",
      "Epoch 22/50\n",
      "16/16 [==============================] - 9s 553ms/step - loss: 0.6387 - acc: 0.6028 - val_loss: 0.8186 - val_acc: 0.5897\n",
      "Epoch 23/50\n",
      "16/16 [==============================] - 9s 551ms/step - loss: 0.6447 - acc: 0.6003 - val_loss: 0.9017 - val_acc: 0.4359\n",
      "Epoch 24/50\n",
      "16/16 [==============================] - 9s 552ms/step - loss: 0.6146 - acc: 0.6495 - val_loss: 0.9396 - val_acc: 0.6410\n",
      "Epoch 25/50\n",
      "16/16 [==============================] - 9s 564ms/step - loss: 0.6465 - acc: 0.6471 - val_loss: 0.8649 - val_acc: 0.5897\n",
      "Epoch 26/50\n",
      "16/16 [==============================] - 9s 553ms/step - loss: 0.6235 - acc: 0.6563 - val_loss: 1.2165 - val_acc: 0.6154\n",
      "Epoch 27/50\n",
      "16/16 [==============================] - 9s 559ms/step - loss: 0.6312 - acc: 0.6536 - val_loss: 0.7666 - val_acc: 0.7436\n",
      "Epoch 28/50\n",
      "16/16 [==============================] - 9s 576ms/step - loss: 0.5865 - acc: 0.7123 - val_loss: 0.9878 - val_acc: 0.6154\n",
      "Epoch 29/50\n",
      "16/16 [==============================] - 9s 538ms/step - loss: 0.5981 - acc: 0.6683 - val_loss: 1.5172 - val_acc: 0.5897\n",
      "Epoch 30/50\n",
      "16/16 [==============================] - 9s 572ms/step - loss: 0.6147 - acc: 0.6771 - val_loss: 1.1473 - val_acc: 0.6410\n",
      "Epoch 31/50\n",
      "16/16 [==============================] - 9s 570ms/step - loss: 0.6139 - acc: 0.7008 - val_loss: 1.3915 - val_acc: 0.6154\n",
      "Epoch 32/50\n",
      "16/16 [==============================] - 9s 550ms/step - loss: 0.5697 - acc: 0.7356 - val_loss: 1.7769 - val_acc: 0.6154\n",
      "Epoch 33/50\n",
      "16/16 [==============================] - 9s 545ms/step - loss: 0.5935 - acc: 0.6939 - val_loss: 1.4556 - val_acc: 0.6154\n",
      "Epoch 34/50\n",
      "16/16 [==============================] - 9s 541ms/step - loss: 0.6069 - acc: 0.6811 - val_loss: 1.2718 - val_acc: 0.6154\n",
      "Epoch 35/50\n",
      "16/16 [==============================] - 9s 543ms/step - loss: 0.6162 - acc: 0.6679 - val_loss: 1.4744 - val_acc: 0.6154\n",
      "Epoch 36/50\n",
      "16/16 [==============================] - 9s 565ms/step - loss: 0.6079 - acc: 0.7124 - val_loss: 1.5165 - val_acc: 0.6154\n",
      "Epoch 37/50\n",
      "16/16 [==============================] - 9s 555ms/step - loss: 0.6364 - acc: 0.6434 - val_loss: 0.8966 - val_acc: 0.6923\n",
      "Epoch 38/50\n",
      "16/16 [==============================] - 9s 552ms/step - loss: 0.5871 - acc: 0.7043 - val_loss: 1.6569 - val_acc: 0.5641\n",
      "Epoch 39/50\n",
      "16/16 [==============================] - 9s 572ms/step - loss: 0.6056 - acc: 0.6969 - val_loss: 1.6391 - val_acc: 0.6154\n",
      "Epoch 40/50\n",
      "16/16 [==============================] - 9s 562ms/step - loss: 0.5884 - acc: 0.6770 - val_loss: 1.1809 - val_acc: 0.5897\n",
      "Epoch 41/50\n",
      "16/16 [==============================] - 10s 606ms/step - loss: 0.5880 - acc: 0.7005 - val_loss: 1.1648 - val_acc: 0.6154\n",
      "Epoch 42/50\n",
      "16/16 [==============================] - 9s 570ms/step - loss: 0.5918 - acc: 0.6667 - val_loss: 1.8379 - val_acc: 0.6154\n",
      "Epoch 43/50\n",
      "16/16 [==============================] - 9s 563ms/step - loss: 0.6293 - acc: 0.6822 - val_loss: 1.0471 - val_acc: 0.6667\n",
      "Epoch 44/50\n",
      "11/16 [===================>..........] - ETA: 2s - loss: 0.5903 - acc: 0.7140"
     ]
    }
   ],
   "source": [
    "training_set=train_datagen.flow_from_directory('Datasets/Training_set',target_size=(64,64),batch_size=24,class_mode='binary')\n",
    "clf.fit_generator(training_set, samples_per_epoch = 400, nb_epoch = 50, validation_data = test_set, nb_val_samples = 39)"
   ]
  },
  {
   "cell_type": "code",
   "execution_count": 15,
   "metadata": {},
   "outputs": [],
   "source": [
    "clf.save('models/simple_CNN.h5')"
   ]
  },
  {
   "cell_type": "code",
   "execution_count": 16,
   "metadata": {},
   "outputs": [
    {
     "ename": "NameError",
     "evalue": "name 'training_set' is not defined",
     "output_type": "error",
     "traceback": [
      "\u001b[1;31m---------------------------------------------------------------------------\u001b[0m",
      "\u001b[1;31mNameError\u001b[0m                                 Traceback (most recent call last)",
      "\u001b[1;32m<ipython-input-16-247992a838cc>\u001b[0m in \u001b[0;36m<module>\u001b[1;34m()\u001b[0m\n\u001b[0;32m      7\u001b[0m \u001b[0mtestimage2\u001b[0m \u001b[1;33m=\u001b[0m \u001b[0mnp\u001b[0m\u001b[1;33m.\u001b[0m\u001b[0mexpand_dims\u001b[0m\u001b[1;33m(\u001b[0m\u001b[0mtestimage2\u001b[0m\u001b[1;33m,\u001b[0m \u001b[0maxis\u001b[0m \u001b[1;33m=\u001b[0m \u001b[1;36m0\u001b[0m\u001b[1;33m)\u001b[0m\u001b[1;33m\u001b[0m\u001b[0m\n\u001b[0;32m      8\u001b[0m \u001b[0mresult\u001b[0m \u001b[1;33m=\u001b[0m \u001b[0mclf\u001b[0m\u001b[1;33m.\u001b[0m\u001b[0mpredict\u001b[0m\u001b[1;33m(\u001b[0m\u001b[0mtestimage2\u001b[0m\u001b[1;33m)\u001b[0m\u001b[1;33m\u001b[0m\u001b[0m\n\u001b[1;32m----> 9\u001b[1;33m \u001b[0mtraining_set\u001b[0m\u001b[1;33m.\u001b[0m\u001b[0mclass_indices\u001b[0m\u001b[1;33m\u001b[0m\u001b[0m\n\u001b[0m\u001b[0;32m     10\u001b[0m \u001b[1;32mif\u001b[0m \u001b[0mresult\u001b[0m\u001b[1;33m[\u001b[0m\u001b[1;36m0\u001b[0m\u001b[1;33m]\u001b[0m\u001b[1;33m[\u001b[0m\u001b[1;36m0\u001b[0m\u001b[1;33m]\u001b[0m \u001b[1;33m<=\u001b[0m \u001b[1;36m0.5\u001b[0m\u001b[1;33m:\u001b[0m\u001b[1;33m\u001b[0m\u001b[0m\n\u001b[0;32m     11\u001b[0m     \u001b[0mprediction\u001b[0m \u001b[1;33m=\u001b[0m \u001b[1;34m'You have Alzheimer'\u001b[0m\u001b[1;33m\u001b[0m\u001b[0m\n",
      "\u001b[1;31mNameError\u001b[0m: name 'training_set' is not defined"
     ]
    },
    {
     "data": {
      "image/png": "[encoded data removed]",
      "text/plain": [
       "<Figure size 432x288 with 1 Axes>"
      ]
     },
     "metadata": {},
     "output_type": "display_data"
    }
   ],
   "source": [
    "from keras.preprocessing import image\n",
    "import matplotlib.pyplot as plt\n",
    "#predicting for Sir sunderlal data\n",
    "testimage2 = image.load_img('Datasets/2190A8D3.png', target_size = (64,64))\n",
    "testimage2 = image.img_to_array(testimage2)\n",
    "plt.imshow(testimage2/255.)\n",
    "testimage2 = np.expand_dims(testimage2, axis = 0)\n",
    "result = clf.predict(testimage2)\n",
    "training_set.class_indices\n",
    "if result[0][0] <= 0.5:\n",
    "    prediction = 'You have Alzheimer'\n",
    "else:\n",
    "    prediction = 'You are healthy'\n",
    "print(prediction)"
   ]
  },
  {
   "cell_type": "code",
   "execution_count": null,
   "metadata": {},
   "outputs": [],
   "source": []
  },
  {
   "cell_type": "code",
   "execution_count": null,
   "metadata": {},
   "outputs": [],
   "source": []
  },
  {
   "cell_type": "code",
   "execution_count": null,
   "metadata": {},
   "outputs": [],
   "source": []
  }
 ],
 "metadata": {
  "kernelspec": {
   "display_name": "Python 3",
   "language": "python",
   "name": "python3"
  },
  "language_info": {
   "codemirror_mode": {
    "name": "ipython",
    "version": 3
   },
   "file_extension": ".py",
   "mimetype": "text/x-python",
   "name": "python",
   "nbconvert_exporter": "python",
   "pygments_lexer": "ipython3",
   "version": "3.6.5"
  }
 },
 "nbformat": 4,
 "nbformat_minor": 2
}
